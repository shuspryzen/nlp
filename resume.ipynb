{
 "cells": [
  {
   "cell_type": "code",
   "execution_count": 1,
   "id": "a09518f4-da29-46ac-a132-6cf66d9b65ca",
   "metadata": {},
   "outputs": [
    {
     "name": "stdout",
     "output_type": "stream",
     "text": [
      "Extracted Skills: ['python', 'communication']\n",
      "Years of Experience: 3\n",
      "Meets Screening Criteria: False\n"
     ]
    }
   ],
   "source": [
    "import spacy\n",
    "\n",
    "def resume_screening(resume_text):\n",
    "    nlp = spacy.load(\"en_core_web_sm\")\n",
    "    doc = nlp(resume_text)\n",
    "\n",
    "    # Desired skills to match\n",
    "    desired_skills = [\"python\", \"machine learning\", \"data analysis\", \"communication\"]\n",
    "    extracted_skills = [token.text.lower() for token in doc if token.text.lower() in desired_skills]\n",
    "\n",
    "    # Extract years of experience\n",
    "    years_of_experience = extract_years_of_experience(doc)\n",
    "\n",
    "    # Screening criteria\n",
    "    meets_criteria = (\n",
    "        \"python\" in extracted_skills\n",
    "        and (\"machine learning\" in extracted_skills or \"data analysis\" in extracted_skills)\n",
    "        and years_of_experience >= 2\n",
    "    )\n",
    "\n",
    "    print(\"Extracted Skills:\", extracted_skills)\n",
    "    print(\"Years of Experience:\", years_of_experience)\n",
    "    print(\"Meets Screening Criteria:\", meets_criteria)\n",
    "\n",
    "def extract_years_of_experience(doc):\n",
    "    for ent in doc.ents:\n",
    "        if ent.label_ == \"DATE\" and \"year\" in ent.text.lower():\n",
    "            # Extract digits within the text (e.g., \"3 years\" -> 3)\n",
    "            for token in ent:\n",
    "                if token.like_num:\n",
    "                    return int(token.text)\n",
    "    return 0\n",
    "\n",
    "# Example resume text\n",
    "resume_text = \"\"\"\n",
    "I am a Python developer with 3 years of experience. My expertise includes machine learning, data \n",
    "analysis, and effective communication.\n",
    "\"\"\"\n",
    "\n",
    "# Run the resume screening\n",
    "resume_screening(resume_text)\n"
   ]
  }
 ],
 "metadata": {
  "kernelspec": {
   "display_name": "Python 3 (ipykernel)",
   "language": "python",
   "name": "python3"
  },
  "language_info": {
   "codemirror_mode": {
    "name": "ipython",
    "version": 3
   },
   "file_extension": ".py",
   "mimetype": "text/x-python",
   "name": "python",
   "nbconvert_exporter": "python",
   "pygments_lexer": "ipython3",
   "version": "3.11.7"
  }
 },
 "nbformat": 4,
 "nbformat_minor": 5
}
