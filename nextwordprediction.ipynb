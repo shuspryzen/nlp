{
 "cells": [
  {
   "cell_type": "code",
   "execution_count": 3,
   "id": "01957905-9044-46b8-8f50-645a19336ffc",
   "metadata": {},
   "outputs": [
    {
     "name": "stdout",
     "output_type": "stream",
     "text": [
      "Next predicted words: I like pizza because  it 's  good .  I  like  pizza\n"
     ]
    }
   ],
   "source": [
    "from transformers import GPT2LMHeadModel, GPT2Tokenizer\n",
    "import torch\n",
    "import numpy as np\n",
    "seed_text = 'I like pizza because'\n",
    "next_words = 7\n",
    "model_name = 'gpt2' # Change this based on the pre-trained model you choose\n",
    "model = GPT2LMHeadModel.from_pretrained(model_name)\n",
    "tokenizer = GPT2Tokenizer.from_pretrained(model_name)\n",
    "for _ in range(next_words):\n",
    "  token_list = tokenizer.encode(seed_text, return_tensors='pt')\n",
    "  predicted_probs = model(token_list).logits[:, -1, :]\n",
    "  predicted_word_index = torch.argmax(predicted_probs).item()\n",
    "  predicted_word = tokenizer.decode([predicted_word_index])\n",
    "  seed_text += ' ' + predicted_word\n",
    "print('Next predicted words:', seed_text)"
   ]
  },
  {
   "cell_type": "code",
   "execution_count": null,
   "id": "d482608d-6bfb-47fb-9ebb-2bd09b58576b",
   "metadata": {},
   "outputs": [],
   "source": []
  }
 ],
 "metadata": {
  "kernelspec": {
   "display_name": "Python 3 (ipykernel)",
   "language": "python",
   "name": "python3"
  },
  "language_info": {
   "codemirror_mode": {
    "name": "ipython",
    "version": 3
   },
   "file_extension": ".py",
   "mimetype": "text/x-python",
   "name": "python",
   "nbconvert_exporter": "python",
   "pygments_lexer": "ipython3",
   "version": "3.11.7"
  }
 },
 "nbformat": 4,
 "nbformat_minor": 5
}
