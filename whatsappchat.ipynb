{
 "cells": [
  {
   "cell_type": "code",
   "execution_count": 2,
   "id": "ddcb8066-ef3d-4469-be25-51cd597a215c",
   "metadata": {},
   "outputs": [
    {
     "name": "stdout",
     "output_type": "stream",
     "text": [
      "Hey!\n",
      "I am doing well, thank you. How about you?\n"
     ]
    },
    {
     "name": "stderr",
     "output_type": "stream",
     "text": [
      "[nltk_data] Downloading package stopwords to\n",
      "[nltk_data]     C:\\Users\\Nivetha\\AppData\\Roaming\\nltk_data...\n",
      "[nltk_data]   Package stopwords is already up-to-date!\n",
      "[nltk_data] Downloading package punkt to\n",
      "[nltk_data]     C:\\Users\\Nivetha\\AppData\\Roaming\\nltk_data...\n",
      "[nltk_data]   Package punkt is already up-to-date!\n"
     ]
    }
   ],
   "source": [
    "import nltk\n",
    "from nltk.corpus import stopwords\n",
    "from nltk.tokenize import word_tokenize\n",
    "nltk.download('stopwords')\n",
    "nltk.download('punkt')\n",
    "# Sample conversation\n",
    "conversation = 'Hello! How are you?\\nI\\'m doing well, thanks! What about you?'\n",
    "# Tokenization and removing stopwords\n",
    "tokens = word_tokenize(conversation.lower())\n",
    "stop_words = set(stopwords.words('english'))\n",
    "filtered_tokens = [word for word in tokens if word.isalnum() and word not in stop_words]\n",
    "\n",
    "from nltk.chat.util import Chat, reflections\n",
    "pairs = [\n",
    "['(hi|hello|hey)', ['Hello!', 'Hi there!', 'Hey!']],\n",
    "['how are you', ['I am doing well, thank you. How about you?']],\n",
    "['(.*)', ['I am just a chatbot, not capable of understanding that.']],\n",
    "]\n",
    "chatbot = Chat(pairs, reflections)\n",
    "user_message = 'Hi, what can you do?'\n",
    "response = chatbot.respond(user_message)\n",
    "print(response)\n",
    "\n",
    "user_message = 'How are you?'\n",
    "response = chatbot.respond(user_message)\n",
    "print(response)"
   ]
  }
 ],
 "metadata": {
  "kernelspec": {
   "display_name": "Python 3 (ipykernel)",
   "language": "python",
   "name": "python3"
  },
  "language_info": {
   "codemirror_mode": {
    "name": "ipython",
    "version": 3
   },
   "file_extension": ".py",
   "mimetype": "text/x-python",
   "name": "python",
   "nbconvert_exporter": "python",
   "pygments_lexer": "ipython3",
   "version": "3.11.7"
  }
 },
 "nbformat": 4,
 "nbformat_minor": 5
}
