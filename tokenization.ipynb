{
 "cells": [
  {
   "cell_type": "code",
   "execution_count": null,
   "id": "0f0d4183-2f08-4ae0-befb-cbc8103dd552",
   "metadata": {},
   "outputs": [
    {
     "name": "stdout",
     "output_type": "stream",
     "text": [
      "Requirement already satisfied: nltk in c:\\users\\nivetha\\anaconda3\\lib\\site-packages (3.8.1)\n",
      "Requirement already satisfied: click in c:\\users\\nivetha\\anaconda3\\lib\\site-packages (from nltk) (8.1.7)\n",
      "Requirement already satisfied: joblib in c:\\users\\nivetha\\anaconda3\\lib\\site-packages (from nltk) (1.2.0)\n",
      "Requirement already satisfied: regex>=2021.8.3 in c:\\users\\nivetha\\anaconda3\\lib\\site-packages (from nltk) (2023.10.3)\n",
      "Requirement already satisfied: tqdm in c:\\users\\nivetha\\anaconda3\\lib\\site-packages (from nltk) (4.65.0)\n",
      "Requirement already satisfied: colorama in c:\\users\\nivetha\\anaconda3\\lib\\site-packages (from click->nltk) (0.4.6)\n"
     ]
    }
   ],
   "source": [
    "!pip install nltk\n",
    "!pip install spacy\n",
    "import nltk\n",
    "nltk.download(\"punkt\")\n",
    "from nltk.tokenize import word_tokenize\n",
    "sample_text =(\"this is a text ready to tokenize\")\n",
    "tokens = word_tokenize(sample_text)\n",
    "print(sample_text, tokens)\n",
    "\n",
    "from nltk.tokenize import TweetTokenizer\n",
    "tweet_tokenizer = TweetTokenizer()\n",
    "sample_text = (\"This is a tweet @jack #NLP\")\n",
    "tokens = tweet_tokenizer.tokenize(sample_text)\n",
    "print(sample_text, tokens)\n",
    "\n",
    "from nltk.tokenize import sent_tokenize\n",
    "sample_text = (\"This is a sentence. This is another one!\\nAnd this is thelast one.\")\n",
    "sentences = sent_tokenize(sample_text)\n",
    "print(sample_text, sentences)\n",
    "\n",
    "import nltk\n",
    "from nltk.corpus import stopwords\n",
    "nltk.download(\"stopwords\")\n",
    "stopwords_ = set(stopwords.words(\"english\"))\n",
    "\n",
    "sample_text = (\"this is a sample text\")\n",
    "tokens = sample_text.split()\n",
    "clean_tokens = [t for t in tokens if not t in stopwords_]\n",
    "clean_text = \" \".join(clean_tokens)\n",
    "print(sample_text, clean_text)\n",
    "\n",
    "import spacy\n",
    "nlp = spacy.load(\"en_core_web_sm\")\n",
    "sample_text = (\"this is a text ready to tokenize\")\n",
    "doc = nlp(sample_text)\n",
    "tokens = [token.text for token in doc]\n",
    "print(sample_text, tokens)\n",
    "\n",
    "import spacy\n",
    "nlp = spacy.load(\"en_core_web_sm\")\n",
    "sample_text = (\"This is a sentence. This is another one!\\nAnd this is the last one.\")\n",
    "doc = nlp(sample_text)\n",
    "sentences = [sentence.text for sentence in doc.sents]\n",
    "print(sample_text, sentences)"
   ]
  },
  {
   "cell_type": "code",
   "execution_count": null,
   "id": "0a9fc478-74cc-4ecc-97fc-36f2d685fc89",
   "metadata": {},
   "outputs": [],
   "source": []
  }
 ],
 "metadata": {
  "kernelspec": {
   "display_name": "Python 3 (ipykernel)",
   "language": "python",
   "name": "python3"
  },
  "language_info": {
   "codemirror_mode": {
    "name": "ipython",
    "version": 3
   },
   "file_extension": ".py",
   "mimetype": "text/x-python",
   "name": "python",
   "nbconvert_exporter": "python",
   "pygments_lexer": "ipython3",
   "version": "3.11.7"
  }
 },
 "nbformat": 4,
 "nbformat_minor": 5
}
